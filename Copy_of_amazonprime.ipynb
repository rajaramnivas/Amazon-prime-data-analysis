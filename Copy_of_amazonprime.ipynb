{
  "nbformat": 4,
  "nbformat_minor": 0,
  "metadata": {
    "colab": {
      "private_outputs": true,
      "provenance": [],
      "collapsed_sections": [
        "vncDsAP0Gaoa",
        "FJNUwmbgGyua",
        "w6K7xa23Elo4",
        "yQaldy8SH6Dl",
        "PH-0ReGfmX4f",
        "mDgbUHAGgjLW",
        "O_i_v8NEhb9l",
        "HhfV-JJviCcP",
        "Y3lxredqlCYt",
        "3RnN4peoiCZX",
        "x71ZqKXriCWQ",
        "7hBIi_osiCS2",
        "JlHwYmJAmNHm",
        "35m5QtbWiB9F",
        "PoPl-ycgm1ru",
        "H0kj-8xxnORC",
        "nA9Y7ga8ng1Z",
        "PBTbrJXOngz2",
        "u3PMJOP6ngxN",
        "dauF4eBmngu3",
        "bKJF3rekwFvQ",
        "MSa1f5Uengrz",
        "GF8Ens_Soomf",
        "0wOQAZs5pc--",
        "K5QZ13OEpz2H",
        "lQ7QKXXCp7Bj",
        "448CDAPjqfQr",
        "KSlN3yHqYklG",
        "t6dVpIINYklI",
        "ijmpgYnKYklI",
        "-JiQyfWJYklI",
        "EM7whBJCYoAo",
        "fge-S5ZAYoAp",
        "85gYPyotYoAp",
        "RoGjAbkUYoAp",
        "4Of9eVA-YrdM",
        "iky9q4vBYrdO",
        "F6T5p64dYrdO",
        "y-Ehk30pYrdP",
        "bamQiAODYuh1",
        "QHF8YVU7Yuh3",
        "GwzvFGzlYuh3",
        "qYpmQ266Yuh3",
        "OH-pJp9IphqM",
        "bbFf2-_FphqN",
        "_ouA3fa0phqN",
        "Seke61FWphqN",
        "PIIx-8_IphqN",
        "t27r6nlMphqO",
        "r2jJGEOYphqO",
        "b0JNsNcRphqO",
        "BZR9WyysphqO",
        "jj7wYXLtphqO",
        "eZrbJ2SmphqO",
        "rFu4xreNphqO",
        "YJ55k-q6phqO",
        "gCFgpxoyphqP",
        "OVtJsKN_phqQ",
        "lssrdh5qphqQ",
        "U2RJ9gkRphqQ",
        "1M8mcRywphqQ",
        "tgIPom80phqQ",
        "JMzcOPDDphqR",
        "x-EpHcCOp1ci",
        "X_VqEhTip1ck",
        "8zGJKyg5p1ck",
        "PVzmfK_Ep1ck",
        "n3dbpmDWp1ck",
        "ylSl6qgtp1ck",
        "ZWILFDl5p1ck",
        "M7G43BXep1ck",
        "Ag9LCva-p1cl",
        "E6MkPsBcp1cl",
        "2cELzS2fp1cl",
        "3MPXvC8up1cl",
        "NC_X3p0fY2L0",
        "UV0SzAkaZNRQ",
        "YPEH6qLeZNRQ",
        "q29F0dvdveiT",
        "EXh0U9oCveiU",
        "22aHeOlLveiV",
        "JcMwzZxoAimU",
        "8G2x9gOozGDZ",
        "gCX9965dhzqZ",
        "gIfDvo9L0UH2"
      ],
      "cell_execution_strategy": "setup",
      "include_colab_link": true
    },
    "kernelspec": {
      "name": "python3",
      "display_name": "Python 3"
    },
    "language_info": {
      "name": "python"
    }
  },
  "cells": [
    {
      "cell_type": "markdown",
      "metadata": {
        "id": "view-in-github",
        "colab_type": "text"
      },
      "source": [
        "<a href=\"https://colab.research.google.com/github/rajaramnivas/Amazon-prime-data-analysis/blob/main/Copy_of_amazonprime.ipynb\" target=\"_parent\"><img src=\"https://colab.research.google.com/assets/colab-badge.svg\" alt=\"Open In Colab\"/></a>"
      ]
    },
    {
      "cell_type": "code",
      "source": [],
      "metadata": {
        "id": "I1apcow5dxii"
      },
      "execution_count": null,
      "outputs": []
    },
    {
      "cell_type": "markdown",
      "source": [
        "# **Project Name** - AMAZON PRIME TV SHOWS AND MOVIES ANALYSING  \n",
        "\n"
      ],
      "metadata": {
        "id": "vncDsAP0Gaoa"
      }
    },
    {
      "cell_type": "markdown",
      "source": [
        "##### **Project Type**    - EDA/Regression/Classification/Unsupervised\n",
        "##### **Contribution**    - Individual/Team\n",
        "##### **Team Member  -**  - RAJARAM S\n"
      ],
      "metadata": {
        "id": "beRrZCGUAJYm"
      }
    },
    {
      "cell_type": "markdown",
      "source": [
        "# **Project Summary -**"
      ],
      "metadata": {
        "id": "FJNUwmbgGyua"
      }
    },
    {
      "cell_type": "markdown",
      "source": [
        "Introduction:\n",
        "\n",
        "Streaming platforms like Amazon Prime Video have transformed the entertainment industry by providing on-demand access to a vast collection of TV shows, movies, and original content. Understanding content distribution, audience preferences, and market trends is essential for optimizing content strategies and improving user engagement. This project focuses on Exploratory Data Analysis (EDA) to uncover patterns in Amazon Prime's content library, including genre distribution, release trends, rating patterns, and missing data analysis.\n",
        "\n",
        "Objective\n",
        "The goal of this analysis is to extract meaningful insights from Amazon Prime's dataset by exploring various factors such as:\n",
        "\n",
        "The distribution of TV shows and movies.\n",
        "Popular genres and their frequency.\n",
        "Trends in content production over the years.\n",
        "IMDb rating distribution and its impact on content.\n",
        "Missing data analysis to ensure data quality.\n",
        "By leveraging data analytics, we aim to provide valuable insights that can assist stakeholders in making data-driven decisions for content acquisition and recommendation algorithms.\n",
        "\n",
        "Data and Methodology\n",
        "The dataset consists of two key files:\n",
        "\n",
        "Titles Dataset – Contains metadata about TV shows and movies, including title, type (movie or TV show), genre, IMDb rating, release year, and country of origin.\n",
        "Credits Dataset – Provides information about the cast and crew of each title.\n",
        "To gain deeper insights, the two datasets were merged based on a common identifier (id). The following EDA techniques were applied:\n",
        "\n",
        "Data Cleaning: Handling missing values, removing duplicates, and standardizing formats.\n",
        "Visualization: Using Python’s Matplotlib and Seaborn libraries to create meaningful charts and graphs.\n",
        "Statistical Analysis: Identifying trends and patterns based on numerical data like IMDb ratings and release years.\n",
        "Key Findings\n",
        "Movies vs. TV Shows Distribution\n",
        "\n",
        "The dataset shows a higher number of movies compared to TV shows, suggesting Amazon Prime invests more in film content.\n",
        "Popular Genres\n",
        "\n",
        "The most common genres include Drama, Comedy, Action, and Thriller.\n",
        "Drama is the dominant genre, reflecting a strong audience preference for storytelling-driven content.\n",
        "Release Year Trends\n",
        "\n",
        "The number of movie and TV show releases has significantly increased in recent years.\n",
        "A peak in content production is observed post-2010, indicating the streaming boom era.\n",
        "IMDb Rating Distribution\n",
        "\n",
        "IMDb ratings follow a right-skewed distribution, meaning most movies and shows receive average ratings between 5.0 and 8.0.\n",
        "Few titles have exceptionally high or low ratings, showing that most content falls within a standard quality range.\n",
        "Missing Data Analysis\n",
        "\n",
        "Some columns, such as cast and IMDb ratings, contain missing values.\n",
        "Handling missing data is crucial for building reliable recommendation models and analytics tools.\n",
        "Business Implications\n",
        "Content Strategy: Amazon Prime can focus more on highly rated genres like Drama and Thriller to attract more viewers.\n",
        "Production Trends: The surge in content production after 2010 aligns with increased streaming demand, and further investments in original content may boost engagement.\n",
        "User Experience: By improving IMDb rating-based recommendations, Amazon Prime can enhance personalized suggestions for users."
      ],
      "metadata": {
        "id": "F6v_1wHtG2nS"
      }
    },
    {
      "cell_type": "markdown",
      "source": [
        "# **GitHub Link -**"
      ],
      "metadata": {
        "id": "w6K7xa23Elo4"
      }
    },
    {
      "cell_type": "markdown",
      "source": [
        "https://github.com/rajaramnivas"
      ],
      "metadata": {
        "id": "h1o69JH3Eqqn"
      }
    },
    {
      "cell_type": "markdown",
      "source": [
        "# **Problem Statement**\n",
        "With the rise of streaming platforms, understanding content trends, audience preferences, and performance metrics is crucial for optimizing user experience. This project aims to analyze Amazon Prime’s TV shows and movies dataset to uncover insights into:\n",
        "\n",
        "The distribution of content types (movies vs. TV shows).\n",
        "Popular genres and their trends over time.\n",
        "IMDb rating patterns and their impact on audience engagement.\n",
        "Content availability across different countries.\n",
        "By leveraging Exploratory Data Analysis (EDA), this study will provide data-driven recommendations to improve content acquisition strategies and enhance user engagement on Amazon Prime Video.\n"
      ],
      "metadata": {
        "id": "yQaldy8SH6Dl"
      }
    },
    {
      "cell_type": "markdown",
      "source": [
        "**Write Problem Statement Here.**"
      ],
      "metadata": {
        "id": "DpeJGUA3kjGy"
      }
    },
    {
      "cell_type": "markdown",
      "source": [
        "#### **Define Your Business Objective?**\n",
        "### **Business Objective**  \n",
        "\n",
        "The primary objective of this project is to analyze Amazon Prime's TV shows and movies dataset to extract valuable insights that can help optimize content strategy and enhance user engagement.  \n",
        "\n",
        "#### **Key Goals:**  \n",
        "1. **Understand Content Distribution:**  \n",
        "   - Analyze the proportion of movies vs. TV shows.  \n",
        "   - Identify trends in content availability over the years.  \n",
        "\n",
        "2. **Analyze Genre Popularity:**  \n",
        "   - Determine the most-watched and highly-rated genres.  \n",
        "   - Help Amazon Prime focus on high-demand genres for future content acquisition.  \n",
        "\n",
        "3. **Evaluate IMDb Ratings & Viewer Preferences:**  \n",
        "   - Identify the distribution of IMDb ratings.  \n",
        "   - Understand factors influencing high-rated content to improve recommendations.  \n",
        "\n",
        "4. **Regional Content Insights:**  \n",
        "   - Assess content availability across different countries.  \n",
        "   - Help optimize regional content offerings based on demand.  \n",
        "\n",
        "5. **Business Impact:**  \n",
        "   - Improve Amazon Prime's recommendation algorithms.  \n",
        "   - Guide content acquisition decisions with data-driven insights.  \n",
        "   - Enhance customer satisfaction by offering content aligned with audience preferences.  \n",
        "\n"
      ],
      "metadata": {
        "id": "PH-0ReGfmX4f"
      }
    },
    {
      "cell_type": "markdown",
      "source": [
        "Answer Here."
      ],
      "metadata": {
        "id": "PhDvGCAqmjP1"
      }
    },
    {
      "cell_type": "markdown",
      "source": [
        "# **General Guidelines** : -\n",
        "### **General Guidelines for Amazon Prime TV Shows and Movies Data Analysis**  \n",
        "\n",
        "#### **1. Understanding the Dataset**  \n",
        "- Review the dataset structure, including columns like title, type (movie/TV show), genre, release year, IMDb rating, and country.  \n",
        "- Identify missing values and clean the data accordingly.  \n",
        "- Merge datasets if multiple files are provided (e.g., titles and credits).  \n",
        "\n",
        "#### **2. Exploratory Data Analysis (EDA)**  \n",
        "- Use statistical summaries (`.describe()`, `.info()`) to understand numerical distributions.  \n",
        "- Identify patterns in data through visualizations.  \n",
        "- Analyze content distribution (TV shows vs. movies).  \n",
        "- Explore genre popularity and trends over time.  \n",
        "- Examine IMDb rating distributions to assess content quality.  \n",
        "\n",
        "#### **3. Data Visualization Best Practices**  \n",
        "- Use bar charts for categorical comparisons (e.g., top genres).  \n",
        "- Apply line charts to show trends over time (e.g., content release per year).  \n",
        "- Utilize histograms to display rating distributions.  \n",
        "- Use pie charts sparingly for proportion-based insights (e.g., movies vs. TV shows).  \n",
        "- Implement heatmaps to analyze correlations between numerical variables.  \n",
        "\n",
        "#### **4. Business Insights & Recommendations**  \n",
        "- Identify high-performing content categories based on ratings and viewership.  \n",
        "- Suggest content strategies for Amazon Prime based on genre popularity.  \n",
        "- Provide regional content analysis to optimize market segmentation.  \n",
        "- Offer data-driven recommendations for content acquisition and platform improvements.  \n",
        "\n",
        "#### **5. Documentation & Reporting**  \n",
        "- Clearly define the problem statement and business objectives.  \n",
        "- Structure the report with **Introduction, Methodology, Findings, and Recommendations**.  \n",
        "- Include key visualizations with proper labels and interpretations.  \n",
        "- Summarize actionable insights concisely.  \n",
        "  "
      ],
      "metadata": {
        "id": "mDgbUHAGgjLW"
      }
    },
    {
      "cell_type": "markdown",
      "source": [
        "1.   Well-structured, formatted, and commented code is required.\n",
        "2.   Exception Handling, Production Grade Code & Deployment Ready Code will be a plus. Those students will be awarded some additional credits.\n",
        "     \n",
        "     The additional credits will have advantages over other students during Star Student selection.\n",
        "       \n",
        "             [ Note: - Deployment Ready Code is defined as, the whole .ipynb notebook should be executable in one go\n",
        "                       without a single error logged. ]\n",
        "\n",
        "3.   Each and every logic should have proper comments.\n",
        "4. You may add as many number of charts you want. Make Sure for each and every chart the following format should be answered.\n",
        "        \n",
        "\n",
        "```\n",
        "# Chart visualization code\n",
        "```\n",
        "            \n",
        "\n",
        "*   Why did you pick the specific chart?\n",
        "*   What is/are the insight(s) found from the chart?\n",
        "* Will the gained insights help creating a positive business impact?\n",
        "Are there any insights that lead to negative growth? Justify with specific reason.\n",
        "\n",
        "5. You have to create at least 20 logical & meaningful charts having important insights.\n",
        "\n",
        "\n",
        "[ Hints : - Do the Vizualization in  a structured way while following \"UBM\" Rule.\n",
        "\n",
        "U - Univariate Analysis,\n",
        "\n",
        "B - Bivariate Analysis (Numerical - Categorical, Numerical - Numerical, Categorical - Categorical)\n",
        "\n",
        "M - Multivariate Analysis\n",
        " ]\n",
        "\n",
        "\n",
        "\n"
      ],
      "metadata": {
        "id": "ZrxVaUj-hHfC"
      }
    },
    {
      "cell_type": "markdown",
      "source": [
        "# ***Let's Begin !***"
      ],
      "metadata": {
        "id": "O_i_v8NEhb9l"
      }
    },
    {
      "cell_type": "markdown",
      "source": [
        "## ***1. Know Your Data***"
      ],
      "metadata": {
        "id": "HhfV-JJviCcP"
      }
    },
    {
      "cell_type": "markdown",
      "source": [
        "### Import Libraries"
      ],
      "metadata": {
        "id": "Y3lxredqlCYt"
      }
    },
    {
      "cell_type": "code",
      "source": [
        "# Import Libraries\n",
        "import pandas as pd\n",
        "import numpy as np\n",
        "import matplotlib.pyplot as plt\n",
        "import seaborn as sns"
      ],
      "metadata": {
        "id": "M8Vqi-pPk-HR"
      },
      "execution_count": null,
      "outputs": []
    },
    {
      "cell_type": "markdown",
      "source": [
        "### Dataset Loading"
      ],
      "metadata": {
        "id": "3RnN4peoiCZX"
      }
    },
    {
      "cell_type": "markdown",
      "source": [
        "### Dataset First View"
      ],
      "metadata": {
        "id": "x71ZqKXriCWQ"
      }
    },
    {
      "cell_type": "code",
      "source": [
        "import gdown\n",
        "import pandas as pd\n",
        "\n",
        "# File IDs from Google Drive links\n",
        "file_ids = {\n",
        "    \"data1.csv\": \"1595FMqlfuQ5vGmHabxldymAkcnyN_RJa\",  # Replace extension based on actual format\n",
        "    \"data2.csv\": \"1fiFrK07KLZ1Ah14ZiSxoqfFB4BYtQtIT\"\n",
        "}\n",
        "\n",
        "# Download files\n",
        "for filename, file_id in file_ids.items():\n",
        "    gdown.download(f\"https://drive.google.com/uc?id={file_id}\", filename, quiet=False)\n",
        "\n",
        "# Load the data into Pandas\n",
        "df1 = pd.read_csv(\"data1.csv\")  # Change to read_excel() for Excel files\n",
        "df2 = pd.read_csv(\"data2.csv\")\n",
        "\n",
        "# Display first few rows of each dataset\n",
        "print(\"First file preview:\")\n",
        "display(df1.head())\n",
        "\n",
        "print(\"\\nSecond file preview:\")\n",
        "display(df2.head())\n"
      ],
      "metadata": {
        "id": "GB9cvigXfI3c"
      },
      "execution_count": null,
      "outputs": []
    },
    {
      "cell_type": "code",
      "source": [
        "merged_df=df1.merge(df2, on=\"id\",how=\"inner\")"
      ],
      "metadata": {
        "id": "n4RNjvp1gjng"
      },
      "execution_count": null,
      "outputs": []
    },
    {
      "cell_type": "code",
      "source": [
        "merged_df.head()"
      ],
      "metadata": {
        "id": "i_mVp9rrhExw"
      },
      "execution_count": null,
      "outputs": []
    },
    {
      "cell_type": "markdown",
      "source": [
        "### Dataset Rows & Columns count"
      ],
      "metadata": {
        "id": "7hBIi_osiCS2"
      }
    },
    {
      "cell_type": "code",
      "source": [
        "print(\"No of rows:\",merged_df.shape[0])\n",
        "print(\"No of columns:\",merged_df.shape[1])"
      ],
      "metadata": {
        "id": "Kllu7SJgmLij"
      },
      "execution_count": null,
      "outputs": []
    },
    {
      "cell_type": "markdown",
      "source": [
        "### Dataset Information"
      ],
      "metadata": {
        "id": "JlHwYmJAmNHm"
      }
    },
    {
      "cell_type": "code",
      "source": [
        "# Dataset Info\n",
        "merged_df.info()"
      ],
      "metadata": {
        "id": "e9hRXRi6meOf"
      },
      "execution_count": null,
      "outputs": []
    },
    {
      "cell_type": "markdown",
      "source": [
        "#### Duplicate Values"
      ],
      "metadata": {
        "id": "35m5QtbWiB9F"
      }
    },
    {
      "cell_type": "code",
      "source": [
        "# Dataset Duplicate Value Count\n",
        "print(\"duplicate value count:\",merged_df.duplicated().sum())"
      ],
      "metadata": {
        "id": "1sLdpKYkmox0"
      },
      "execution_count": null,
      "outputs": []
    },
    {
      "cell_type": "code",
      "source": [
        "#remove the duplicate value row\n",
        "merged_df.drop_duplicates(inplace=True)"
      ],
      "metadata": {
        "id": "gltnKOWr8IId"
      },
      "execution_count": null,
      "outputs": []
    },
    {
      "cell_type": "markdown",
      "source": [
        "#### Missing Values/Null Values"
      ],
      "metadata": {
        "id": "PoPl-ycgm1ru"
      }
    },
    {
      "cell_type": "code",
      "source": [
        "# Missing Values/Null Values Count\n",
        "missing_values=merged_df.isnull().sum()\n",
        "print(missing_values)"
      ],
      "metadata": {
        "id": "GgHWkxvamxVg"
      },
      "execution_count": null,
      "outputs": []
    },
    {
      "cell_type": "code",
      "source": [
        "# Visualizing the missing values\n",
        "missing_values = missing_values[missing_values > 0]  # Only show columns with missing values\n",
        "\n",
        "plt.figure(figsize=(10, 5))\n",
        "missing_values.plot(kind=\"bar\", color=\"orange\")\n",
        "plt.xlabel(\"Columns\")\n",
        "plt.ylabel(\"Count of Missing Values\")\n",
        "plt.title(\"Missing Values Per Column\")\n",
        "plt.xticks(rotation=45)\n",
        "plt.show()"
      ],
      "metadata": {
        "id": "3q5wnI3om9sJ"
      },
      "execution_count": null,
      "outputs": []
    },
    {
      "cell_type": "markdown",
      "source": [
        "### What did you know about your dataset?"
      ],
      "metadata": {
        "id": "H0kj-8xxnORC"
      }
    },
    {
      "cell_type": "markdown",
      "source": [
        "Answer Here"
      ],
      "metadata": {
        "id": "gfoNAAC-nUe_"
      }
    },
    {
      "cell_type": "markdown",
      "source": [
        "## ***2. Understanding Your Variables***"
      ],
      "metadata": {
        "id": "nA9Y7ga8ng1Z"
      }
    },
    {
      "cell_type": "code",
      "source": [
        "# Dataset Columns\n",
        "print(\"Dataset Columns:\")\n",
        "for col in merged_df.columns:\n",
        "    print(\"-\", col)"
      ],
      "metadata": {
        "id": "j7xfkqrt5Ag5"
      },
      "execution_count": null,
      "outputs": []
    },
    {
      "cell_type": "code",
      "source": [
        "# Dataset Describe\n",
        "# Summary of numerical columns\n",
        "print(merged_df.describe())"
      ],
      "metadata": {
        "id": "DnOaZdaE5Q5t"
      },
      "execution_count": null,
      "outputs": []
    },
    {
      "cell_type": "markdown",
      "source": [
        "### Variables Description"
      ],
      "metadata": {
        "id": "PBTbrJXOngz2"
      }
    },
    {
      "cell_type": "markdown",
      "source": [
        "Answer Here"
      ],
      "metadata": {
        "id": "aJV4KIxSnxay"
      }
    },
    {
      "cell_type": "markdown",
      "source": [
        "### Check Unique Values for each variable."
      ],
      "metadata": {
        "id": "u3PMJOP6ngxN"
      }
    },
    {
      "cell_type": "code",
      "source": [
        "# Check Unique Values for each variable.\n",
        "print( \"Display unique value counts for each column\")\n",
        "unique_values=merged_df.nunique()\n",
        "unique_values"
      ],
      "metadata": {
        "id": "zms12Yq5n-jE"
      },
      "execution_count": null,
      "outputs": []
    },
    {
      "cell_type": "markdown",
      "source": [
        "## 3. ***Data Wrangling***"
      ],
      "metadata": {
        "id": "dauF4eBmngu3"
      }
    },
    {
      "cell_type": "markdown",
      "source": [
        "### Data Wrangling Code"
      ],
      "metadata": {
        "id": "bKJF3rekwFvQ"
      }
    },
    {
      "cell_type": "code",
      "source": [
        "# Write your code to make your dataset analysis ready.\n",
        "# 2️⃣ *Handle Missing Values*\n",
        "merged_df.fillna({\n",
        "    \"character\": \"Unknown\",\n",
        "    \"age_certification\": \"Not Rated\",\n",
        "    \"imdb_score\": merged_df[\"imdb_score\"].median(),\n",
        "    \"tmdb_score\": merged_df[\"tmdb_score\"].median(),\n",
        "    \"seasons\": 0\n",
        "}, inplace=True)"
      ],
      "metadata": {
        "id": "wk-9a2fpoLcV"
      },
      "execution_count": null,
      "outputs": []
    },
    {
      "cell_type": "code",
      "source": [
        "import ast\n",
        "\n",
        "# Convert 'genres' & 'production_countries' from string to list\n",
        "merged_df[\"genres\"] = merged_df[\"genres\"].apply(lambda x: ast.literal_eval(x) if isinstance(x, str) else [])\n",
        "merged_df[\"production_countries\"] = merged_df[\"production_countries\"].apply(lambda x: ast.literal_eval(x) if isinstance(x, str) else [])\n",
        "\n",
        "# Convert 'release_year' and 'runtime' to integer (if not already)\n",
        "merged_df[\"release_year\"] = merged_df[\"release_year\"].astype(int)\n",
        "merged_df[\"runtime\"] = merged_df[\"runtime\"].astype(int)\n",
        "\n",
        "# Convert 'seasons' to integer (some values might be float due to NaNs)\n",
        "merged_df[\"seasons\"] = merged_df[\"seasons\"].astype(int)\n",
        "\n",
        "# Convert 'imdb_score', 'tmdb_score', 'imdb_votes', and 'tmdb_popularity' to float\n",
        "merged_df[\"imdb_score\"] = merged_df[\"imdb_score\"].astype(float)\n",
        "merged_df[\"tmdb_score\"] = merged_df[\"tmdb_score\"].astype(float)\n",
        "merged_df[\"imdb_votes\"] = merged_df[\"imdb_votes\"].astype(float)\n",
        "merged_df[\"tmdb_popularity\"] = merged_df[\"tmdb_popularity\"].astype(float)\n",
        "\n",
        "print(\"\\n Data Type Fixing Completed!\")\n",
        "print(merged_df.dtypes)"
      ],
      "metadata": {
        "id": "9g1tBK56NrL3"
      },
      "execution_count": null,
      "outputs": []
    },
    {
      "cell_type": "code",
      "source": [
        "#Normalize categorical data\n",
        "# Convert 'type' column to uppercase (MOVIE/SHOW)\n",
        "merged_df[\"type\"] = merged_df[\"type\"].str.upper()\n",
        "\n",
        "# Convert 'role' column to lowercase\n",
        "merged_df[\"role\"] = merged_df[\"role\"].str.lower()\n",
        "\n",
        "# Strip spaces and standardize 'age_certification'\n",
        "merged_df[\"age_certification\"] = merged_df[\"age_certification\"].str.strip().str.upper()\n",
        "\n",
        "# Replace any inconsistent values in 'age_certification'\n",
        "age_mapping = {\n",
        "    \"G\": \"G\",\n",
        "    \"PG\": \"PG\",\n",
        "    \"PG-13\": \"PG-13\",\n",
        "    \"R\": \"R\",\n",
        "    \"NC-17\": \"NC-17\",\n",
        "    \"NOT RATED\": \"NOT RATED\"\n",
        "}\n",
        "merged_df[\"age_certification\"] = merged_df[\"age_certification\"].map(age_mapping).fillna(\"UNKNOWN\")\n",
        "\n",
        "print(\"\\nCategorical Data Normalization Completed!\")\n",
        "print(merged_df[[\"type\", \"role\", \"age_certification\"]].head())"
      ],
      "metadata": {
        "id": "XUsRmd5eNrm8"
      },
      "execution_count": null,
      "outputs": []
    },
    {
      "cell_type": "markdown",
      "source": [
        "### What all manipulations have you done and insights you found?"
      ],
      "metadata": {
        "id": "MSa1f5Uengrz"
      }
    },
    {
      "cell_type": "markdown",
      "source": [
        "Answer Here."
      ],
      "metadata": {
        "id": "LbyXE7I1olp8"
      }
    },
    {
      "cell_type": "markdown",
      "source": [
        "## ***4. Data Vizualization, Storytelling & Experimenting with charts : Understand the relationships between variables***"
      ],
      "metadata": {
        "id": "GF8Ens_Soomf"
      }
    },
    {
      "cell_type": "markdown",
      "source": [
        "#### Chart - 1"
      ],
      "metadata": {
        "id": "0wOQAZs5pc--"
      }
    },
    {
      "cell_type": "code",
      "source": [
        "# Chart - 1 visualization code\n",
        "from collections import Counter\n",
        "\n",
        "# Flatten the list of genres (since genres are stored as lists)\n",
        "all_genres = [genre for sublist in merged_df[\"genres\"] for genre in sublist]\n",
        "\n",
        "# Count the occurrences of each genre\n",
        "genre_counts = Counter(all_genres).most_common(10)  # Top 10 genres\n",
        "\n",
        "# Convert to a DataFrame\n",
        "genre_df = pd.DataFrame(genre_counts, columns=[\"Genre\", \"Count\"])\n",
        "\n",
        "# Plot the bar chart (fixing the warning)\n",
        "plt.figure(figsize=(13, 5))\n",
        "sns.barplot(data=genre_df, x=\"Count\", y=\"Genre\", hue=\"Genre\", palette=\"plasma\", dodge=False, legend=False)\n",
        "\n",
        "# Add labels and title\n",
        "plt.xlabel(\"Number of Titles\", fontsize=12, fontweight=\"bold\")\n",
        "plt.ylabel(\"Genre\", fontsize=12, fontweight=\"bold\")\n",
        "plt.title(\"Top 10 Most Common Genres on Amazon Prime\", fontsize=14, fontweight=\"bold\")\n",
        "\n",
        "# Show values on bars\n",
        "for index, value in enumerate(genre_df[\"Count\"]):\n",
        "    plt.text(value + 5, index, str(value), va=\"center\", fontsize=12, fontweight=\"bold\")\n",
        "\n",
        "plt.show()"
      ],
      "metadata": {
        "id": "7v_ESjsspbW7"
      },
      "execution_count": null,
      "outputs": []
    },
    {
      "cell_type": "markdown",
      "source": [
        "#### Chart - 3"
      ],
      "metadata": {
        "id": "EM7whBJCYoAo"
      }
    },
    {
      "cell_type": "code",
      "source": [
        "# Chart - 3 visualization code\n",
        "# Set figure size\n",
        "plt.figure(figsize=(8, 6))\n",
        "\n",
        "# Create scatter plot\n",
        "sns.scatterplot(data=merged_df, x=\"imdb_score\", y=\"tmdb_score\", alpha=0.5, color=\"purple\")\n",
        "\n",
        "# Add labels and title\n",
        "plt.xlabel(\"IMDb Rating\", fontsize=12, fontweight=\"bold\")\n",
        "plt.ylabel(\"TMDb Rating\", fontsize=12, fontweight=\"bold\")\n",
        "plt.title(\"Correlation Between IMDb and TMDb Ratings\", fontsize=14, fontweight=\"bold\")\n",
        "\n",
        "# Show the plot\n",
        "plt.grid(True, linestyle=\"--\", alpha=0.7)\n",
        "plt.show()"
      ],
      "metadata": {
        "id": "t6GMdE67YoAp"
      },
      "execution_count": null,
      "outputs": []
    },
    {
      "cell_type": "code",
      "source": [
        "# Chart - 4 visualization code\n",
        "# Set figure size\n",
        "plt.figure(figsize=(8, 6))\n",
        "\n",
        "# Create scatter plot\n",
        "sns.scatterplot(data=merged_df, x=\"imdb_score\", y=\"tmdb_score\", alpha=0.5, color=\"purple\")\n",
        "\n",
        "# Add labels and title\n",
        "plt.xlabel(\"IMDb Rating\", fontsize=12, fontweight=\"bold\")\n",
        "plt.ylabel(\"TMDb Rating\", fontsize=12, fontweight=\"bold\")\n",
        "plt.title(\"Correlation Between IMDb and TMDb Ratings\", fontsize=14, fontweight=\"bold\")\n",
        "\n",
        "# Show the plot\n",
        "plt.grid(True, linestyle=\"--\", alpha=0.7)\n",
        "plt.show()"
      ],
      "metadata": {
        "id": "irlUoxc8YrdO"
      },
      "execution_count": null,
      "outputs": []
    },
    {
      "cell_type": "markdown",
      "source": [
        "#### Chart - 6"
      ],
      "metadata": {
        "id": "OH-pJp9IphqM"
      }
    },
    {
      "cell_type": "code",
      "source": [
        "# Chart - 6 visualization code\n",
        "# Count the number of Movies and TV Shows\n",
        "content_counts = merged_df[\"type\"].value_counts()\n",
        "\n",
        "# Define colors for better contrast\n",
        "colors = [\"orange\", \"green\"]\n",
        "\n",
        "# Set figure size\n",
        "plt.figure(figsize=(8, 8))\n",
        "\n",
        "# Create a pie chart with a center circle (Donut Chart)\n",
        "plt.pie(content_counts, labels=content_counts.index, autopct=\"%1.1f%%\", colors=colors, startangle=140, wedgeprops={\"edgecolor\": \"black\"})\n",
        "plt.gca().add_artist(plt.Circle((0, 0), 0.5, color=\"white\"))  # Create the donut hole\n",
        "\n",
        "# Add title\n",
        "plt.title(\"Distribution of Movies vs. TV Shows on Amazon Prime\", fontsize=14, fontweight=\"bold\")\n",
        "\n",
        "# Show the plot\n",
        "plt.show()"
      ],
      "metadata": {
        "id": "kuRf4wtuphqN"
      },
      "execution_count": null,
      "outputs": []
    },
    {
      "cell_type": "markdown",
      "source": [
        "#### Chart - 7"
      ],
      "metadata": {
        "id": "PIIx-8_IphqN"
      }
    },
    {
      "cell_type": "code",
      "source": [
        "# Chart - 7 visualization code\n",
        "# Chart - 10 visualization code\n",
        "# Calculate the average IMDb rating for Movies and TV Shows\n",
        "content_type_ratings = merged_df.groupby(\"type\")[\"imdb_score\"].mean()\n",
        "\n",
        "# Define bright colors\n",
        "colors = [\"green\", \"purple\"]\n",
        "\n",
        "# Set figure size\n",
        "plt.figure(figsize=(8, 8))\n",
        "\n",
        "# Create a pie chart\n",
        "plt.pie(content_type_ratings, labels=content_type_ratings.index, autopct=\"%1.1f%%\", colors=colors, startangle=140, wedgeprops={\"edgecolor\": \"black\"})\n",
        "\n",
        "# Add title\n",
        "plt.title(\"Average IMDb Ratings: Movies vs. TV Shows on Amazon Prime\", fontsize=14, fontweight=\"bold\")\n",
        "\n",
        "# Show the plot\n",
        "plt.show()"
      ],
      "metadata": {
        "id": "lqAIGUfyphqO"
      },
      "execution_count": null,
      "outputs": []
    },
    {
      "cell_type": "markdown",
      "source": [
        "#### Chart - 8"
      ],
      "metadata": {
        "id": "BZR9WyysphqO"
      }
    },
    {
      "cell_type": "code",
      "source": [
        "# Chart - 8 visualization code\n",
        "# Select only numerical columns for correlation\n",
        "numeric_cols = merged_df.select_dtypes(include=[\"float64\", \"int64\"])\n",
        "\n",
        "# Compute the correlation matrix\n",
        "correlation_matrix = numeric_cols.corr()\n",
        "\n",
        "# Set figure size\n",
        "plt.figure(figsize=(10, 6))\n",
        "\n",
        "# Create heatmap\n",
        "sns.heatmap(correlation_matrix, annot=True, cmap=\"coolwarm\", fmt=\".2f\", linewidths=0.5)\n",
        "\n",
        "# Add title\n",
        "plt.title(\"Correlation Heatmap of Amazon Prime Content Features\", fontsize=14, fontweight=\"bold\")\n",
        "\n",
        "# Show the plot\n",
        "plt.show()"
      ],
      "metadata": {
        "id": "TdPTWpAVphqO"
      },
      "execution_count": null,
      "outputs": []
    },
    {
      "cell_type": "markdown",
      "source": [
        "#### Chart - 9"
      ],
      "metadata": {
        "id": "YJ55k-q6phqO"
      }
    },
    {
      "cell_type": "code",
      "source": [
        "# Chart - 9 visualization code\n",
        "# Count number of titles released per year\n",
        "yearly_trend = merged_df[\"release_year\"].value_counts().sort_index()\n",
        "\n",
        "# Set figure size\n",
        "plt.figure(figsize=(10, 5))\n",
        "\n",
        "# Create line plot\n",
        "sns.lineplot(x=yearly_trend.index, y=yearly_trend.values, marker=\"o\", color=\"blue\")\n",
        "\n",
        "# Add labels and title\n",
        "plt.xlabel(\"Release Year\", fontsize=12, fontweight=\"bold\")\n",
        "plt.ylabel(\"Number of Titles\", fontsize=12, fontweight=\"bold\")\n",
        "plt.title(\"Trend of Movies and TV Shows Production Over the Years\", fontsize=14, fontweight=\"bold\")\n",
        "\n",
        "# Show the plot\n",
        "plt.grid(True, linestyle=\"--\", alpha=0.7)\n",
        "plt.show()"
      ],
      "metadata": {
        "id": "B2aS4O1ophqO"
      },
      "execution_count": null,
      "outputs": []
    },
    {
      "cell_type": "markdown",
      "source": [
        "#### Chart - 10 - Pair Plot"
      ],
      "metadata": {
        "id": "q29F0dvdveiT"
      }
    },
    {
      "cell_type": "code",
      "source": [
        "# Pair Plot visualization code\n",
        "numeric_cols = merged_df[[\"imdb_score\", \"tmdb_score\", \"runtime\", \"imdb_votes\", \"tmdb_popularity\"]]\n",
        "\n",
        "# Create pair plot\n",
        "sns.pairplot(numeric_cols, diag_kind=\"kde\", corner=True, plot_kws={\"alpha\": 0.5})\n",
        "\n",
        "# Show the plot\n",
        "plt.show()"
      ],
      "metadata": {
        "id": "o58-TEIhveiU"
      },
      "execution_count": null,
      "outputs": []
    },
    {
      "cell_type": "markdown",
      "source": [
        "## **5. Solution to Business Objective**"
      ],
      "metadata": {
        "id": "JcMwzZxoAimU"
      }
    },
    {
      "cell_type": "markdown",
      "source": [
        "#### What do you suggest the client to achieve Business Objective ?\n",
        "To effectively achieve the business objective, the client should focus on data-driven decision-making by leveraging insights from the merged dataset. Here’s a structured approach:\n",
        "\n",
        "1️⃣ Understand Customer Behavior\n",
        "Analyze customer trends, preferences, and purchasing patterns.\n",
        "Identify high-value customers using segmentation techniques.\n",
        "2️⃣ Improve Product/Service Offerings\n",
        "Identify best-selling products/services and optimize inventory.\n",
        "Use sentiment analysis (if applicable) to understand customer feedback.\n",
        "3️⃣ Enhance Marketing Strategies\n",
        "Implement targeted marketing campaigns based on customer insights.\n",
        "Personalize offers and promotions to boost engagement.\n",
        "4️⃣ Optimize Business Operations\n",
        "Reduce inefficiencies in supply chain and logistics.\n",
        "Automate processes to improve productivity.\n",
        "5️⃣ Predictive Analytics for Future Growth\n",
        "Use machine learning models to predict future trends.\n",
        "Identify potential business expansion areas."
      ],
      "metadata": {
        "id": "8G2x9gOozGDZ"
      }
    },
    {
      "cell_type": "markdown",
      "source": [],
      "metadata": {
        "id": "pASKb0qOza21"
      }
    },
    {
      "cell_type": "markdown",
      "source": [
        "# **Conclusion**"
      ],
      "metadata": {
        "id": "gCX9965dhzqZ"
      }
    },
    {
      "cell_type": "markdown",
      "source": [
        "In this analysis, we successfully merged and analyzed two datasets based on the ID column, allowing us to derive meaningful insights. The key takeaways include:\n",
        "\n",
        "1️⃣ Data Quality & Integrity – We identified missing values and inconsistencies, ensuring a clean dataset for analysis.\n",
        "\n",
        "2️⃣ Business Insights – By combining both datasets, we can uncover customer behavior, sales trends, and operational inefficiencies.\n",
        "\n",
        "3️⃣ Strategic Decision-Making – The merged data can be used for predictive analytics, personalized marketing, and business optimization.\n",
        "\n",
        "4️⃣ Future Recommendations – Implement data-driven strategies to enhance business growth, customer retention, and operational efficiency.\n",
        "\n",
        " Final Thought: This analysis provides a strong foundation for data-driven decisions, enabling the client to improve business performance and stay ahead in the competitive market.\n",
        "\n",
        "\n",
        "\n",
        "\n",
        "\n",
        "\n"
      ],
      "metadata": {
        "id": "Fjb1IsQkh3yE"
      }
    }
  ]
}